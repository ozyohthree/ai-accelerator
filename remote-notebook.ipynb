{
 "cells": [
  {
   "cell_type": "code",
   "execution_count": null,
   "id": "7ee4ed04",
   "metadata": {},
   "outputs": [
    {
     "ename": "",
     "evalue": "",
     "output_type": "error",
     "traceback": [
      "\u001b[1;31mFailed to connect to the remote Jupyter Server 'http://localhost:8888/'. Verify the server is running and reachable. ('_xsrf' argument missing from POST)."
     ]
    }
   ],
   "source": [
    "from __future__ import division\n",
    "import math\n",
    "import pandas as pd\n",
    "import numpy as np\n",
    "import matplotlib.pyplot as plt\n",
    "import sklearn.datasets\n",
    "import sklearn.metrics as metrics\n",
    "from sklearn.decomposition import PCA\n",
    "from sklearn.preprocessing import StandardScaler\n",
    "\n",
    "# load the iris dataset\n",
    "dataset = sklearn.datasets.load_iris()\n",
    "# define feature vectors (X) and target (y)\n",
    "X = dataset.data\n",
    "y = dataset.target\n",
    "labels = dataset.target_names"
   ]
  },
  {
   "cell_type": "code",
   "execution_count": null,
   "id": "ca7e427c",
   "metadata": {},
   "outputs": [],
   "source": [
    "# <help:scikit_pca>\n",
    "# define the number of components to compute, recommend n_components < y_features\n",
    "pca = PCA(n_components=2)\n",
    "X_pca = pca.fit_transform(X)\n",
    "\n",
    "# plot the first two principal components\n",
    "fig, ax = plt.subplots()\n",
    "plt.scatter(X_pca[:,0], X_pca[:,1])\n",
    "plt.grid()\n",
    "plt.title('PCA of the dataset')\n",
    "ax.set_xlabel('Component #1')\n",
    "ax.set_ylabel('Component #2')\n",
    "plt.show()"
   ]
  },
  {
   "cell_type": "code",
   "execution_count": null,
   "id": "2a667aea",
   "metadata": {},
   "outputs": [],
   "source": [
    "# <help:scikit_pca>\n",
    "# eigendecomposition on the covariance matrix\n",
    "cov_mat = np.cov(X_pca.T)\n",
    "eig_vals, eig_vecs = np.linalg.eig(cov_mat)\n",
    "print('Eigenvectors \\n%s' %eig_vecs)\n",
    "print('\\nEigenvalues \\n%s' %eig_vals)"
   ]
  },
  {
   "cell_type": "code",
   "execution_count": null,
   "id": "3cca1d28",
   "metadata": {},
   "outputs": [],
   "source": [
    "# <help:scikit_pca>\n",
    "# prints the percentage of overall variance explained by each component\n",
    "print(pca.explained_variance_ratio_)"
   ]
  },
  {
   "cell_type": "code",
   "execution_count": null,
   "id": "a17fd467",
   "metadata": {},
   "outputs": [],
   "source": []
  },
  {
   "cell_type": "code",
   "execution_count": null,
   "id": "4acb1f54",
   "metadata": {},
   "outputs": [],
   "source": []
  }
 ],
 "metadata": {
  "kernelspec": {
   "display_name": "Python 3.11",
   "language": "python",
   "name": "python3"
  }
 },
 "nbformat": 4,
 "nbformat_minor": 5
}
